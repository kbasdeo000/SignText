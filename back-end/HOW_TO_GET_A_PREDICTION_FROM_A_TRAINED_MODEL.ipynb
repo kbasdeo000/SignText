{
 "cells": [
  {
   "cell_type": "code",
   "execution_count": 1,
   "metadata": {},
   "outputs": [],
   "source": [
    "# HOW TO GET A PREDICTION FROM A TRAINED MODEL"
   ]
  },
  {
   "cell_type": "code",
   "execution_count": 2,
   "metadata": {},
   "outputs": [
    {
     "name": "stderr",
     "output_type": "stream",
     "text": [
      "Using TensorFlow backend.\n",
      "/home/apps/anaconda/lib/python3.6/site-packages/tensorflow/python/framework/dtypes.py:516: FutureWarning: Passing (type, 1) or '1type' as a synonym of type is deprecated; in a future version of numpy, it will be understood as (type, (1,)) / '(1,)type'.\n",
      "  _np_qint8 = np.dtype([(\"qint8\", np.int8, 1)])\n",
      "/home/apps/anaconda/lib/python3.6/site-packages/tensorflow/python/framework/dtypes.py:517: FutureWarning: Passing (type, 1) or '1type' as a synonym of type is deprecated; in a future version of numpy, it will be understood as (type, (1,)) / '(1,)type'.\n",
      "  _np_quint8 = np.dtype([(\"quint8\", np.uint8, 1)])\n",
      "/home/apps/anaconda/lib/python3.6/site-packages/tensorflow/python/framework/dtypes.py:518: FutureWarning: Passing (type, 1) or '1type' as a synonym of type is deprecated; in a future version of numpy, it will be understood as (type, (1,)) / '(1,)type'.\n",
      "  _np_qint16 = np.dtype([(\"qint16\", np.int16, 1)])\n",
      "/home/apps/anaconda/lib/python3.6/site-packages/tensorflow/python/framework/dtypes.py:519: FutureWarning: Passing (type, 1) or '1type' as a synonym of type is deprecated; in a future version of numpy, it will be understood as (type, (1,)) / '(1,)type'.\n",
      "  _np_quint16 = np.dtype([(\"quint16\", np.uint16, 1)])\n",
      "/home/apps/anaconda/lib/python3.6/site-packages/tensorflow/python/framework/dtypes.py:520: FutureWarning: Passing (type, 1) or '1type' as a synonym of type is deprecated; in a future version of numpy, it will be understood as (type, (1,)) / '(1,)type'.\n",
      "  _np_qint32 = np.dtype([(\"qint32\", np.int32, 1)])\n",
      "/home/apps/anaconda/lib/python3.6/site-packages/tensorflow/python/framework/dtypes.py:525: FutureWarning: Passing (type, 1) or '1type' as a synonym of type is deprecated; in a future version of numpy, it will be understood as (type, (1,)) / '(1,)type'.\n",
      "  np_resource = np.dtype([(\"resource\", np.ubyte, 1)])\n",
      "/home/apps/anaconda/lib/python3.6/site-packages/tensorboard/compat/tensorflow_stub/dtypes.py:541: FutureWarning: Passing (type, 1) or '1type' as a synonym of type is deprecated; in a future version of numpy, it will be understood as (type, (1,)) / '(1,)type'.\n",
      "  _np_qint8 = np.dtype([(\"qint8\", np.int8, 1)])\n",
      "/home/apps/anaconda/lib/python3.6/site-packages/tensorboard/compat/tensorflow_stub/dtypes.py:542: FutureWarning: Passing (type, 1) or '1type' as a synonym of type is deprecated; in a future version of numpy, it will be understood as (type, (1,)) / '(1,)type'.\n",
      "  _np_quint8 = np.dtype([(\"quint8\", np.uint8, 1)])\n",
      "/home/apps/anaconda/lib/python3.6/site-packages/tensorboard/compat/tensorflow_stub/dtypes.py:543: FutureWarning: Passing (type, 1) or '1type' as a synonym of type is deprecated; in a future version of numpy, it will be understood as (type, (1,)) / '(1,)type'.\n",
      "  _np_qint16 = np.dtype([(\"qint16\", np.int16, 1)])\n",
      "/home/apps/anaconda/lib/python3.6/site-packages/tensorboard/compat/tensorflow_stub/dtypes.py:544: FutureWarning: Passing (type, 1) or '1type' as a synonym of type is deprecated; in a future version of numpy, it will be understood as (type, (1,)) / '(1,)type'.\n",
      "  _np_quint16 = np.dtype([(\"quint16\", np.uint16, 1)])\n",
      "/home/apps/anaconda/lib/python3.6/site-packages/tensorboard/compat/tensorflow_stub/dtypes.py:545: FutureWarning: Passing (type, 1) or '1type' as a synonym of type is deprecated; in a future version of numpy, it will be understood as (type, (1,)) / '(1,)type'.\n",
      "  _np_qint32 = np.dtype([(\"qint32\", np.int32, 1)])\n",
      "/home/apps/anaconda/lib/python3.6/site-packages/tensorboard/compat/tensorflow_stub/dtypes.py:550: FutureWarning: Passing (type, 1) or '1type' as a synonym of type is deprecated; in a future version of numpy, it will be understood as (type, (1,)) / '(1,)type'.\n",
      "  np_resource = np.dtype([(\"resource\", np.ubyte, 1)])\n"
     ]
    }
   ],
   "source": [
    "### STEP 0 - IMPORTS\n",
    "from keras.models import load_model\n",
    "from keras.preprocessing import image\n",
    "import cv2\n",
    "from matplotlib import pyplot as plt\n",
    "import numpy as np\n",
    "import glob"
   ]
  },
  {
   "cell_type": "code",
   "execution_count": 3,
   "metadata": {},
   "outputs": [],
   "source": [
    "# prevent keras from using the whole GPU\n",
    "from keras.backend.tensorflow_backend import set_session\n",
    "import tensorflow as tf\n",
    "config = tf.ConfigProto()\n",
    "config.gpu_options.allow_growth = True  # dynamically grow the memory used on the GPU\n",
    "config.log_device_placement = True  # to log device placement (on which device the operation ran)\n",
    "\n",
    "sess = tf.Session(config=config)\n",
    "set_session(sess)  # set this TensorFlow session as the default session for Keras"
   ]
  },
  {
   "cell_type": "code",
   "execution_count": 4,
   "metadata": {},
   "outputs": [],
   "source": [
    "### Step 0.1\n",
    "# this is the dictionary created at training time that associates a class with an in the output vector of the model\n",
    "class_indices = {'A': 0,\n",
    " 'B': 1,\n",
    " 'C': 2,\n",
    " 'D': 3,\n",
    " 'E': 4,\n",
    " 'F': 5,\n",
    " 'G': 6,\n",
    " 'H': 7,\n",
    " 'I': 8,\n",
    " 'J': 9,\n",
    " 'K': 10,\n",
    " 'L': 11,\n",
    " 'M': 12,\n",
    " 'N': 13,\n",
    " 'O': 14,\n",
    " 'P': 15,\n",
    " 'Q': 16,\n",
    " 'R': 17,\n",
    " 'S': 18,\n",
    " 'T': 19,\n",
    " 'U': 20,\n",
    " 'V': 21,\n",
    " 'W': 22,\n",
    " 'X': 23,\n",
    " 'Y': 24,\n",
    " 'Z': 25,\n",
    " 'del': 26,\n",
    " 'nothing': 27,\n",
    " 'space': 28}\n",
    "\n",
    "# this dictionary inverts the one above: ie gives you the class from the index\n",
    "# used to get the letter class from the argmax of a prediction vector.\n",
    "ind_to_class = {v: k for k, v in class_indices.items()}\n",
    "\n",
    "# approximate data mean and variance, computed on subset of training data\n",
    "(R_MEAN, G_MEAN, B_MEAN) = (132.54925778832765,127.47777489388343,131.40493902829613)\n",
    "(R_VAR, G_VAR, B_VAR) = (57.8223931610762,64.89711912659384,66.70657380138726)"
   ]
  },
  {
   "cell_type": "code",
   "execution_count": 5,
   "metadata": {},
   "outputs": [
    {
     "name": "stdout",
     "output_type": "stream",
     "text": [
      "0 /scratch/felix/data/asl-alphabet/models/slim-cnn-model_1589435564.024641.archi.h5\n",
      "1 /scratch/felix/data/asl-alphabet/models/slim-cnn-model_1589466843.9716654.archi.h5\n",
      "2 /scratch/felix/data/asl-alphabet/models/slim-cnn-model_1589468465.7909756.archi.h5\n",
      "3 /scratch/felix/data/asl-alphabet/models/slim-cnn-model_1589476500.7791066.archi.h5\n",
      "4 /scratch/felix/data/asl-alphabet/models/slim-cnn-model_1589481921.2333355.archi.h5\n",
      "5 /scratch/felix/data/asl-alphabet/models/slim-cnn-model_1589483453.5800693.archi.h5\n",
      "6 /scratch/felix/data/asl-alphabet/models/slim-cnn-model_1589484159.8331006.archi.h5\n",
      "7 /scratch/felix/data/asl-alphabet/models/slim-cnn-model_1589484700.6529548.archi.h5\n",
      "8 /scratch/felix/data/asl-alphabet/models/slim-cnn-model_1589485062.7551541.archi.h5\n",
      "9 /scratch/felix/data/asl-alphabet/models/slim-cnn-model_1589485392.4361136.archi.h5\n",
      "10 /scratch/felix/data/asl-alphabet/models/slim-cnn-model_1589487064.7397249.archi.h5\n",
      "11 /scratch/felix/data/asl-alphabet/models/slim-cnn-model_1589487323.0490587.archi.h5\n",
      "12 /scratch/felix/data/asl-alphabet/models/slim-cnn-model_1589487939.5543468.archi.h5\n",
      "13 /scratch/felix/data/asl-alphabet/models/slim-cnn-model_1589488092.188415.archi.h5\n",
      "14 /scratch/felix/data/asl-alphabet/models/slim-cnn-model_1589488408.745062.archi.h5\n",
      "15 /scratch/felix/data/asl-alphabet/models/slim-cnn-model_1589488879.6811998.archi.h5\n",
      "16 /scratch/felix/data/asl-alphabet/models/slim-cnn-model_1589489028.3408642.archi.h5\n",
      "17 /scratch/felix/data/asl-alphabet/models/slim-cnn-model_1589489569.208058.archi.h5\n",
      "18 /scratch/felix/data/asl-alphabet/models/slim-cnn-model_1589489709.0608358.archi.h5\n",
      "19 /scratch/felix/data/asl-alphabet/models/slim-cnn-model_1589490659.166553.archi.h5\n",
      "20 /scratch/felix/data/asl-alphabet/models/slim-cnn-model_1589493515.8746374.archi.h5\n",
      "21 /scratch/felix/data/asl-alphabet/models/slim-cnn-model_1589493744.553466.archi.h5\n",
      "22 /scratch/felix/data/asl-alphabet/models/slim-cnn-model_1589494669.0769217.archi.h5\n",
      "23 /scratch/felix/data/asl-alphabet/models/slim-cnn-model_1589495406.7424462.archi.h5\n"
     ]
    }
   ],
   "source": [
    "### STEP 1 - LOAD THE MODEL AND ITS WEIGHTS\n",
    "# path to model definition (replace with your own PATH)\n",
    "MODEL_DIR = '/YOUR_PATH/asl-alphabet/models'\n",
    "\n",
    "# list all the available models\n",
    "g = sorted(glob.glob(MODEL_DIR+'/*archi.h5'))\n",
    "for n,f in enumerate(g):\n",
    "    print(n, f)"
   ]
  },
  {
   "cell_type": "code",
   "execution_count": 6,
   "metadata": {},
   "outputs": [],
   "source": [
    "# pick one, or put the path to your own \n",
    "model_archi_path = g[-1]"
   ]
  },
  {
   "cell_type": "code",
   "execution_count": 7,
   "metadata": {
    "scrolled": false
   },
   "outputs": [
    {
     "name": "stdout",
     "output_type": "stream",
     "text": [
      "Model: \"model_1\"\n",
      "__________________________________________________________________________________________________\n",
      "Layer (type)                    Output Shape         Param #     Connected to                     \n",
      "==================================================================================================\n",
      "input_1 (InputLayer)            (None, 64, 64, 3)    0                                            \n",
      "__________________________________________________________________________________________________\n",
      "gaussian_noise_1 (GaussianNoise (None, 64, 64, 3)    0           input_1[0][0]                    \n",
      "__________________________________________________________________________________________________\n",
      "conv2d_1 (Conv2D)               (None, 64, 64, 32)   896         gaussian_noise_1[0][0]           \n",
      "__________________________________________________________________________________________________\n",
      "leaky_re_lu_1 (LeakyReLU)       (None, 64, 64, 32)   0           conv2d_1[0][0]                   \n",
      "__________________________________________________________________________________________________\n",
      "conv2d_2 (Conv2D)               (None, 64, 64, 32)   9248        leaky_re_lu_1[0][0]              \n",
      "__________________________________________________________________________________________________\n",
      "leaky_re_lu_2 (LeakyReLU)       (None, 64, 64, 32)   0           conv2d_2[0][0]                   \n",
      "__________________________________________________________________________________________________\n",
      "conv2d_3 (Conv2D)               (None, 32, 32, 32)   9248        leaky_re_lu_2[0][0]              \n",
      "__________________________________________________________________________________________________\n",
      "leaky_re_lu_3 (LeakyReLU)       (None, 32, 32, 32)   0           conv2d_3[0][0]                   \n",
      "__________________________________________________________________________________________________\n",
      "conv2d_4 (Conv2D)               (None, 32, 32, 32)   9248        leaky_re_lu_3[0][0]              \n",
      "__________________________________________________________________________________________________\n",
      "leaky_re_lu_4 (LeakyReLU)       (None, 32, 32, 32)   0           conv2d_4[0][0]                   \n",
      "__________________________________________________________________________________________________\n",
      "conv2d_5 (Conv2D)               (None, 32, 32, 32)   9248        leaky_re_lu_4[0][0]              \n",
      "__________________________________________________________________________________________________\n",
      "leaky_re_lu_5 (LeakyReLU)       (None, 32, 32, 32)   0           conv2d_5[0][0]                   \n",
      "__________________________________________________________________________________________________\n",
      "conv2d_6 (Conv2D)               (None, 16, 16, 32)   9248        leaky_re_lu_5[0][0]              \n",
      "__________________________________________________________________________________________________\n",
      "leaky_re_lu_6 (LeakyReLU)       (None, 16, 16, 32)   0           conv2d_6[0][0]                   \n",
      "__________________________________________________________________________________________________\n",
      "depthwise_conv2d_1 (DepthwiseCo (None, 16, 16, 32)   320         leaky_re_lu_6[0][0]              \n",
      "__________________________________________________________________________________________________\n",
      "batch_normalization_1 (BatchNor (None, 16, 16, 32)   128         depthwise_conv2d_1[0][0]         \n",
      "__________________________________________________________________________________________________\n",
      "leaky_re_lu_7 (LeakyReLU)       (None, 16, 16, 32)   0           batch_normalization_1[0][0]      \n",
      "__________________________________________________________________________________________________\n",
      "conv2d_7 (Conv2D)               (None, 16, 16, 32)   1056        leaky_re_lu_7[0][0]              \n",
      "__________________________________________________________________________________________________\n",
      "batch_normalization_2 (BatchNor (None, 16, 16, 32)   128         conv2d_7[0][0]                   \n",
      "__________________________________________________________________________________________________\n",
      "leaky_re_lu_8 (LeakyReLU)       (None, 16, 16, 32)   0           batch_normalization_2[0][0]      \n",
      "__________________________________________________________________________________________________\n",
      "depthwise_conv2d_2 (DepthwiseCo (None, 16, 16, 32)   320         leaky_re_lu_8[0][0]              \n",
      "__________________________________________________________________________________________________\n",
      "batch_normalization_3 (BatchNor (None, 16, 16, 32)   128         depthwise_conv2d_2[0][0]         \n",
      "__________________________________________________________________________________________________\n",
      "leaky_re_lu_9 (LeakyReLU)       (None, 16, 16, 32)   0           batch_normalization_3[0][0]      \n",
      "__________________________________________________________________________________________________\n",
      "conv2d_8 (Conv2D)               (None, 16, 16, 32)   1056        leaky_re_lu_9[0][0]              \n",
      "__________________________________________________________________________________________________\n",
      "batch_normalization_4 (BatchNor (None, 16, 16, 32)   128         conv2d_8[0][0]                   \n",
      "__________________________________________________________________________________________________\n",
      "leaky_re_lu_10 (LeakyReLU)      (None, 16, 16, 32)   0           batch_normalization_4[0][0]      \n",
      "__________________________________________________________________________________________________\n",
      "add_1 (Add)                     (None, 16, 16, 32)   0           leaky_re_lu_10[0][0]             \n",
      "                                                                 leaky_re_lu_6[0][0]              \n",
      "__________________________________________________________________________________________________\n",
      "global_average_pooling2d_1 (Glo (None, 32)           0           add_1[0][0]                      \n",
      "__________________________________________________________________________________________________\n",
      "dropout_1 (Dropout)             (None, 32)           0           global_average_pooling2d_1[0][0] \n",
      "__________________________________________________________________________________________________\n",
      "dense_1 (Dense)                 (None, 128)          4224        dropout_1[0][0]                  \n",
      "__________________________________________________________________________________________________\n",
      "dense_2 (Dense)                 (None, 29)           3741        dense_1[0][0]                    \n",
      "==================================================================================================\n",
      "Total params: 58,365\n",
      "Trainable params: 58,109\n",
      "Non-trainable params: 256\n",
      "__________________________________________________________________________________________________\n",
      "None\n"
     ]
    }
   ],
   "source": [
    "# load the model architecture\n",
    "model = load_model(model_archi_path)\n",
    "# check model summary\n",
    "print(model.summary())\n",
    "\n",
    "# path to model weights (relies on the naming convention. ie that the file ends with 'archi.h5')\n",
    "# if you want to have different naming convention, you need to change the path to weights\n",
    "model_weights_path = model_archi_path[:-len('archi.h5')]+'weights.h5'\n",
    "# load weights\n",
    "model.load_weights(model_weights_path)"
   ]
  },
  {
   "cell_type": "code",
   "execution_count": 8,
   "metadata": {},
   "outputs": [
    {
     "data": {
      "image/png": "[encoded data removed]",
      "text/plain": [
       "<Figure size 432x288 with 1 Axes>"
      ]
     },
     "metadata": {
      "needs_background": "light"
     },
     "output_type": "display_data"
    }
   ],
   "source": [
    "# STEP 1.5 - load an image from disk\n",
    "# path to an image \n",
    "# IMG_DIR = '/scratch/felix/data/asl-alphabet/asl_alphabet_train/asl_alphabet_train/'\n",
    "# img_path = IMG_DIR + 'C/C310.jpg'\n",
    "IMG_DIR = '/YOUR_PATH/asl-alphabet/asl_alphabet_test/asl_alphabet_test/'\n",
    "img_path = IMG_DIR + 'W_test.jpg'\n",
    "\n",
    "# load image to python object using keras\n",
    "img = image.load_img(img_path, target_size=(64,64))\n",
    "img = image.img_to_array(img, dtype='uint8')\n",
    "# print(img)\n",
    "plt.imshow(img)\n",
    "plt.show()"
   ]
  },
  {
   "cell_type": "code",
   "execution_count": 9,
   "metadata": {},
   "outputs": [
    {
     "name": "stderr",
     "output_type": "stream",
     "text": [
      "Clipping input data to the valid range for imshow with RGB data ([0..1] for floats or [0..255] for integers).\n"
     ]
    },
    {
     "data": {
      "image/png": "[encoded data removed]",
      "text/plain": [
       "<Figure size 432x288 with 1 Axes>"
      ]
     },
     "metadata": {
      "needs_background": "light"
     },
     "output_type": "display_data"
    },
    {
     "name": "stderr",
     "output_type": "stream",
     "text": [
      "Clipping input data to the valid range for imshow with RGB data ([0..1] for floats or [0..255] for integers).\n"
     ]
    },
    {
     "data": {
      "image/png": "[encoded data removed]",
      "text/plain": [
       "<Figure size 432x288 with 1 Axes>"
      ]
     },
     "metadata": {
      "needs_background": "light"
     },
     "output_type": "display_data"
    },
    {
     "name": "stdout",
     "output_type": "stream",
     "text": [
      "img shape: (64, 64, 3)\n"
     ]
    }
   ],
   "source": [
    "### STEP 2 - PREPROCESS IMAGE\n",
    "# at this stage, img should be a numpy array of shape (64,64,3)\n",
    "# with values between 0 and 255\n",
    "# your task is to get this img from the webcam\n",
    "\n",
    "\n",
    "# normalize to mean 0 variance 1\n",
    "img = (img-np.mean(img))/np.std(img)\n",
    "plt.imshow(img)\n",
    "plt.show()\n",
    "\n",
    "# apply edge detection transform transform\n",
    "# img = cv2.Sobel(img, cv2.CV_64F, 0, 1, ksize=5)\n",
    "# img = cv2.Sobel(img, cv2.CV_64F, 1, 1, ksize=5)\n",
    "img = cv2.GaussianBlur(img, (7, 7), 0)\n",
    "img = cv2.Laplacian(img, cv2.CV_64F, ksize=5)\n",
    "\n",
    "plt.imshow(img)\n",
    "plt.show()\n",
    "\n",
    "# # renormalize?\n",
    "# img = (img-np.mean(img))/np.std(img) \n",
    "# plt.imshow(img)\n",
    "# plt.show()\n",
    "\n",
    "# check the shape of img\n",
    "# it should be (64, 64, 3) (64*64 pixels with 3 colors)\n",
    "print('img shape: {}'.format(np.shape(img)))\n",
    "# expand to have a batchsize of 1\n",
    "img = np.reshape(img, (1,64,64,3))"
   ]
  },
  {
   "cell_type": "code",
   "execution_count": 10,
   "metadata": {},
   "outputs": [
    {
     "name": "stdout",
     "output_type": "stream",
     "text": [
      "WARNING:tensorflow:From /home/felix/.local/lib/python3.6/site-packages/keras/backend/tensorflow_backend.py:422: The name tf.global_variables is deprecated. Please use tf.compat.v1.global_variables instead.\n",
      "\n",
      "prediction vector: [[0.   0.   0.   0.   0.   0.   0.   0.   0.   0.   0.   0.   0.   0.\n",
      "  0.   0.   0.   0.   0.   0.   0.   0.01 0.99 0.   0.   0.   0.   0.\n",
      "  0.  ]]\n",
      "file name: W_test.jpg\n",
      "prediction class: W\n"
     ]
    }
   ],
   "source": [
    "### STEP 3 - GET A PREDICTION\n",
    "pred_vector = model.predict(img)\n",
    "pred_class = ind_to_class[np.argmax(pred_vector)]\n",
    "\n",
    "# get class of prediction [A,B,C,...,Z,del, nothing]\n",
    "print('prediction vector: {}'.format(np.round(pred_vector, decimals=2)))\n",
    "print('file name: {}'.format(img_path.split('/')[-1]))\n",
    "print('prediction class: {}'.format(ind_to_class[np.argmax(pred_vector)]))"
   ]
  },
  {
   "cell_type": "code",
   "execution_count": null,
   "metadata": {},
   "outputs": [],
   "source": []
  }
 ],
 "metadata": {
  "kernelspec": {
   "display_name": "Python 3",
   "language": "python",
   "name": "python3"
  },
  "language_info": {
   "codemirror_mode": {
    "name": "ipython",
    "version": 3
   },
   "file_extension": ".py",
   "mimetype": "text/x-python",
   "name": "python",
   "nbconvert_exporter": "python",
   "pygments_lexer": "ipython3",
   "version": "3.6.9"
  }
 },
 "nbformat": 4,
 "nbformat_minor": 2
}
