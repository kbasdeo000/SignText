{
 "cells": [
  {
   "cell_type": "code",
   "execution_count": 1,
   "metadata": {},
   "outputs": [],
   "source": [
    "### imports"
   ]
  },
  {
   "cell_type": "code",
   "execution_count": 2,
   "metadata": {},
   "outputs": [
    {
     "name": "stderr",
     "output_type": "stream",
     "text": [
      "/home/apps/anaconda/lib/python3.6/site-packages/tensorflow/python/framework/dtypes.py:516: FutureWarning: Passing (type, 1) or '1type' as a synonym of type is deprecated; in a future version of numpy, it will be understood as (type, (1,)) / '(1,)type'.\n",
      "  _np_qint8 = np.dtype([(\"qint8\", np.int8, 1)])\n",
      "/home/apps/anaconda/lib/python3.6/site-packages/tensorflow/python/framework/dtypes.py:517: FutureWarning: Passing (type, 1) or '1type' as a synonym of type is deprecated; in a future version of numpy, it will be understood as (type, (1,)) / '(1,)type'.\n",
      "  _np_quint8 = np.dtype([(\"quint8\", np.uint8, 1)])\n",
      "/home/apps/anaconda/lib/python3.6/site-packages/tensorflow/python/framework/dtypes.py:518: FutureWarning: Passing (type, 1) or '1type' as a synonym of type is deprecated; in a future version of numpy, it will be understood as (type, (1,)) / '(1,)type'.\n",
      "  _np_qint16 = np.dtype([(\"qint16\", np.int16, 1)])\n",
      "/home/apps/anaconda/lib/python3.6/site-packages/tensorflow/python/framework/dtypes.py:519: FutureWarning: Passing (type, 1) or '1type' as a synonym of type is deprecated; in a future version of numpy, it will be understood as (type, (1,)) / '(1,)type'.\n",
      "  _np_quint16 = np.dtype([(\"quint16\", np.uint16, 1)])\n",
      "/home/apps/anaconda/lib/python3.6/site-packages/tensorflow/python/framework/dtypes.py:520: FutureWarning: Passing (type, 1) or '1type' as a synonym of type is deprecated; in a future version of numpy, it will be understood as (type, (1,)) / '(1,)type'.\n",
      "  _np_qint32 = np.dtype([(\"qint32\", np.int32, 1)])\n",
      "/home/apps/anaconda/lib/python3.6/site-packages/tensorflow/python/framework/dtypes.py:525: FutureWarning: Passing (type, 1) or '1type' as a synonym of type is deprecated; in a future version of numpy, it will be understood as (type, (1,)) / '(1,)type'.\n",
      "  np_resource = np.dtype([(\"resource\", np.ubyte, 1)])\n",
      "/home/apps/anaconda/lib/python3.6/site-packages/tensorboard/compat/tensorflow_stub/dtypes.py:541: FutureWarning: Passing (type, 1) or '1type' as a synonym of type is deprecated; in a future version of numpy, it will be understood as (type, (1,)) / '(1,)type'.\n",
      "  _np_qint8 = np.dtype([(\"qint8\", np.int8, 1)])\n",
      "/home/apps/anaconda/lib/python3.6/site-packages/tensorboard/compat/tensorflow_stub/dtypes.py:542: FutureWarning: Passing (type, 1) or '1type' as a synonym of type is deprecated; in a future version of numpy, it will be understood as (type, (1,)) / '(1,)type'.\n",
      "  _np_quint8 = np.dtype([(\"quint8\", np.uint8, 1)])\n",
      "/home/apps/anaconda/lib/python3.6/site-packages/tensorboard/compat/tensorflow_stub/dtypes.py:543: FutureWarning: Passing (type, 1) or '1type' as a synonym of type is deprecated; in a future version of numpy, it will be understood as (type, (1,)) / '(1,)type'.\n",
      "  _np_qint16 = np.dtype([(\"qint16\", np.int16, 1)])\n",
      "/home/apps/anaconda/lib/python3.6/site-packages/tensorboard/compat/tensorflow_stub/dtypes.py:544: FutureWarning: Passing (type, 1) or '1type' as a synonym of type is deprecated; in a future version of numpy, it will be understood as (type, (1,)) / '(1,)type'.\n",
      "  _np_quint16 = np.dtype([(\"quint16\", np.uint16, 1)])\n",
      "/home/apps/anaconda/lib/python3.6/site-packages/tensorboard/compat/tensorflow_stub/dtypes.py:545: FutureWarning: Passing (type, 1) or '1type' as a synonym of type is deprecated; in a future version of numpy, it will be understood as (type, (1,)) / '(1,)type'.\n",
      "  _np_qint32 = np.dtype([(\"qint32\", np.int32, 1)])\n",
      "/home/apps/anaconda/lib/python3.6/site-packages/tensorboard/compat/tensorflow_stub/dtypes.py:550: FutureWarning: Passing (type, 1) or '1type' as a synonym of type is deprecated; in a future version of numpy, it will be understood as (type, (1,)) / '(1,)type'.\n",
      "  np_resource = np.dtype([(\"resource\", np.ubyte, 1)])\n",
      "Using TensorFlow backend.\n"
     ]
    }
   ],
   "source": [
    "import tensorflow as tf\n",
    "\n",
    "# keras\n",
    "from keras.preprocessing.image import ImageDataGenerator\n",
    "from keras.utils.np_utils import to_categorical\n",
    "from keras.layers import Conv2D, Dense, Dropout, Flatten, Input, Add, GlobalAveragePooling2D \n",
    "from keras.layers import GaussianNoise, DepthwiseConv2D, BatchNormalization, LeakyReLU\n",
    "from keras.models import Model\n",
    "from keras.callbacks import ModelCheckpoint, CSVLogger \n",
    "from keras.regularizers import l1_l2\n",
    "\n",
    "# Image Preprocessing\n",
    "import cv2\n",
    "import numpy as np\n",
    "\n",
    "# Visualization\n",
    "from keras.utils import print_summary\n",
    "from matplotlib import pyplot as plt\n",
    "\n",
    "# other\n",
    "from glob import glob\n",
    "import time\n",
    "import pickle"
   ]
  },
  {
   "cell_type": "code",
   "execution_count": 3,
   "metadata": {},
   "outputs": [],
   "source": [
    "# prevent keras from using the whole GPU\n",
    "from keras.backend.tensorflow_backend import set_session\n",
    "import tensorflow as tf\n",
    "config = tf.ConfigProto()\n",
    "config.gpu_options.allow_growth = True  # dynamically grow the memory used on the GPU\n",
    "config.log_device_placement = True  # to log device placement (on which device the operation ran)\n",
    "\n",
    "sess = tf.Session(config=config)\n",
    "set_session(sess)  # set this TensorFlow session as the default session for Keras"
   ]
  },
  {
   "cell_type": "code",
   "execution_count": 4,
   "metadata": {},
   "outputs": [],
   "source": [
    "# Set global variables\n",
    "# data dir\n",
    "TRAIN_DIR = '/YOUR_PATH/asl-alphabet/asl_alphabet_train/asl_alphabet_train'\n",
    "TEST_DIR = '/YOUR_PATH/asl-alphabet/asl_alphabet_test/asl_alphabet_test'\n",
    "\n",
    "# params of the data\n",
    "CLASSES = [folder[len(TRAIN_DIR) + 1:] for folder in glob(TRAIN_DIR + '/*')]\n",
    "CLASSES.sort()\n",
    "N_CLASSES = len(CLASSES)\n",
    "INPUT_DIMS = (64,64,3) # 64*64 RGB images\n",
    "TARGET_SIZE = (64, 64)\n",
    "\n",
    "# approximate data mean and variance, computed on subset of training data\n",
    "(R_MEAN, G_MEAN, B_MEAN) = (132.54925778832765,127.47777489388343,131.40493902829613)\n",
    "(R_VAR, G_VAR, B_VAR) = (57.8223931610762,64.89711912659384,66.70657380138726)\n",
    "\n",
    "# experiment params\n",
    "VALIDATION_SPLIT = 0.1\n",
    "BATCH_SIZE = 32\n",
    "# where to save the model\n",
    "MODEL_DIR = '/YOUR_PATH/asl-alphabet/models'"
   ]
  },
  {
   "cell_type": "code",
   "execution_count": 5,
   "metadata": {},
   "outputs": [],
   "source": [
    "# regulizer used by model\n",
    "l1l2_reg = l1_l2(l1=0.0001, l2=0.0001)"
   ]
  },
  {
   "cell_type": "code",
   "execution_count": 6,
   "metadata": {
    "scrolled": false
   },
   "outputs": [
    {
     "name": "stdout",
     "output_type": "stream",
     "text": [
      "Model: \"model_1\"\n",
      "__________________________________________________________________________________________________\n",
      "Layer (type)                    Output Shape         Param #     Connected to                     \n",
      "==================================================================================================\n",
      "input_1 (InputLayer)            (None, 64, 64, 3)    0                                            \n",
      "__________________________________________________________________________________________________\n",
      "gaussian_noise_1 (GaussianNoise (None, 64, 64, 3)    0           input_1[0][0]                    \n",
      "__________________________________________________________________________________________________\n",
      "conv2d_1 (Conv2D)               (None, 64, 64, 32)   896         gaussian_noise_1[0][0]           \n",
      "__________________________________________________________________________________________________\n",
      "leaky_re_lu_1 (LeakyReLU)       (None, 64, 64, 32)   0           conv2d_1[0][0]                   \n",
      "__________________________________________________________________________________________________\n",
      "conv2d_2 (Conv2D)               (None, 64, 64, 32)   9248        leaky_re_lu_1[0][0]              \n",
      "__________________________________________________________________________________________________\n",
      "leaky_re_lu_2 (LeakyReLU)       (None, 64, 64, 32)   0           conv2d_2[0][0]                   \n",
      "__________________________________________________________________________________________________\n",
      "conv2d_3 (Conv2D)               (None, 32, 32, 32)   9248        leaky_re_lu_2[0][0]              \n",
      "__________________________________________________________________________________________________\n",
      "leaky_re_lu_3 (LeakyReLU)       (None, 32, 32, 32)   0           conv2d_3[0][0]                   \n",
      "__________________________________________________________________________________________________\n",
      "conv2d_4 (Conv2D)               (None, 32, 32, 32)   9248        leaky_re_lu_3[0][0]              \n",
      "__________________________________________________________________________________________________\n",
      "leaky_re_lu_4 (LeakyReLU)       (None, 32, 32, 32)   0           conv2d_4[0][0]                   \n",
      "__________________________________________________________________________________________________\n",
      "conv2d_5 (Conv2D)               (None, 32, 32, 32)   9248        leaky_re_lu_4[0][0]              \n",
      "__________________________________________________________________________________________________\n",
      "leaky_re_lu_5 (LeakyReLU)       (None, 32, 32, 32)   0           conv2d_5[0][0]                   \n",
      "__________________________________________________________________________________________________\n",
      "conv2d_6 (Conv2D)               (None, 16, 16, 32)   9248        leaky_re_lu_5[0][0]              \n",
      "__________________________________________________________________________________________________\n",
      "leaky_re_lu_6 (LeakyReLU)       (None, 16, 16, 32)   0           conv2d_6[0][0]                   \n",
      "__________________________________________________________________________________________________\n",
      "depthwise_conv2d_1 (DepthwiseCo (None, 16, 16, 32)   320         leaky_re_lu_6[0][0]              \n",
      "__________________________________________________________________________________________________\n",
      "batch_normalization_1 (BatchNor (None, 16, 16, 32)   128         depthwise_conv2d_1[0][0]         \n",
      "__________________________________________________________________________________________________\n",
      "leaky_re_lu_7 (LeakyReLU)       (None, 16, 16, 32)   0           batch_normalization_1[0][0]      \n",
      "__________________________________________________________________________________________________\n",
      "conv2d_7 (Conv2D)               (None, 16, 16, 32)   1056        leaky_re_lu_7[0][0]              \n",
      "__________________________________________________________________________________________________\n",
      "batch_normalization_2 (BatchNor (None, 16, 16, 32)   128         conv2d_7[0][0]                   \n",
      "__________________________________________________________________________________________________\n",
      "leaky_re_lu_8 (LeakyReLU)       (None, 16, 16, 32)   0           batch_normalization_2[0][0]      \n",
      "__________________________________________________________________________________________________\n",
      "depthwise_conv2d_2 (DepthwiseCo (None, 16, 16, 32)   320         leaky_re_lu_8[0][0]              \n",
      "__________________________________________________________________________________________________\n",
      "batch_normalization_3 (BatchNor (None, 16, 16, 32)   128         depthwise_conv2d_2[0][0]         \n",
      "__________________________________________________________________________________________________\n",
      "leaky_re_lu_9 (LeakyReLU)       (None, 16, 16, 32)   0           batch_normalization_3[0][0]      \n",
      "__________________________________________________________________________________________________\n",
      "conv2d_8 (Conv2D)               (None, 16, 16, 32)   1056        leaky_re_lu_9[0][0]              \n",
      "__________________________________________________________________________________________________\n",
      "batch_normalization_4 (BatchNor (None, 16, 16, 32)   128         conv2d_8[0][0]                   \n",
      "__________________________________________________________________________________________________\n",
      "leaky_re_lu_10 (LeakyReLU)      (None, 16, 16, 32)   0           batch_normalization_4[0][0]      \n",
      "__________________________________________________________________________________________________\n",
      "add_1 (Add)                     (None, 16, 16, 32)   0           leaky_re_lu_10[0][0]             \n",
      "                                                                 leaky_re_lu_6[0][0]              \n",
      "__________________________________________________________________________________________________\n",
      "global_average_pooling2d_1 (Glo (None, 32)           0           add_1[0][0]                      \n",
      "__________________________________________________________________________________________________\n",
      "dropout_1 (Dropout)             (None, 32)           0           global_average_pooling2d_1[0][0] \n",
      "__________________________________________________________________________________________________\n",
      "dense_1 (Dense)                 (None, 128)          4224        dropout_1[0][0]                  \n",
      "__________________________________________________________________________________________________\n",
      "dense_2 (Dense)                 (None, 29)           3741        dense_1[0][0]                    \n",
      "==================================================================================================\n",
      "Total params: 58,365\n",
      "Trainable params: 58,109\n",
      "Non-trainable params: 256\n",
      "__________________________________________________________________________________________________\n"
     ]
    }
   ],
   "source": [
    "### Define the model\n",
    "# slim-cnn\n",
    "inputs = Input(shape=INPUT_DIMS)\n",
    "\n",
    "# add noise to inputs\n",
    "net = GaussianNoise(0.001)(inputs)\n",
    "\n",
    "net = Conv2D(32, kernel_size=3, strides=1, padding='same', kernel_regularizer=l1l2_reg, )(net)\n",
    "net = LeakyReLU()(net)\n",
    "net = Conv2D(32, kernel_size=3, strides=1, padding='same', kernel_regularizer=l1l2_reg, )(net)\n",
    "net = LeakyReLU()(net)\n",
    "net = Conv2D(32, kernel_size=3, strides=2, padding='same', kernel_regularizer=l1l2_reg, )(net)\n",
    "net = LeakyReLU()(net)\n",
    "\n",
    "net = Conv2D(32, kernel_size=3, strides=1, padding='same', kernel_regularizer=l1l2_reg, )(net)\n",
    "net = LeakyReLU()(net)\n",
    "net = Conv2D(32, kernel_size=3, strides=1, padding='same', kernel_regularizer=l1l2_reg, )(net)\n",
    "net = LeakyReLU()(net)\n",
    "net = Conv2D(32, kernel_size=3, strides=2, padding='same', kernel_regularizer=l1l2_reg, )(net)\n",
    "net = LeakyReLU()(net)\n",
    "\n",
    "shortcut = net\n",
    "\n",
    "net = DepthwiseConv2D(kernel_size=3, strides=1, padding='same', kernel_regularizer=l1l2_reg, kernel_initializer='he_normal')(net)\n",
    "net = BatchNormalization(axis=3)(net)\n",
    "net = LeakyReLU()(net)\n",
    "net = Conv2D(filters=32, kernel_size=1, strides=1, padding='same', kernel_regularizer=l1l2_reg, kernel_initializer='he_normal')(net)\n",
    "net = BatchNormalization(axis=3)(net)\n",
    "net = LeakyReLU()(net)\n",
    "\n",
    "net = DepthwiseConv2D(kernel_size=3, strides=1, padding='same', kernel_regularizer=l1l2_reg, kernel_initializer='he_normal')(net)\n",
    "net = BatchNormalization(axis=3)(net)\n",
    "net = LeakyReLU()(net)\n",
    "net = Conv2D(filters=32, kernel_size=1, strides=1, padding='same', kernel_regularizer=l1l2_reg, kernel_initializer='he_normal')(net)\n",
    "net = BatchNormalization(axis=3)(net)\n",
    "net = LeakyReLU()(net)\n",
    "\n",
    "net = Add()([net, shortcut])\n",
    "\n",
    "net = GlobalAveragePooling2D()(net)\n",
    "net = Dropout(0.2)(net)\n",
    "\n",
    "net = Dense(128, activation='relu', kernel_regularizer=l1l2_reg, kernel_initializer='he_normal')(net)\n",
    "outputs = Dense(N_CLASSES, activation='softmax', kernel_regularizer=l1l2_reg, kernel_initializer='he_normal')(net)\n",
    "\n",
    "model = Model(inputs=inputs, outputs=outputs)\n",
    "model.compile(optimizer='adam', loss='categorical_crossentropy', metrics=[\"accuracy\"])\n",
    "\n",
    "model.summary()\n"
   ]
  },
  {
   "cell_type": "code",
   "execution_count": 7,
   "metadata": {},
   "outputs": [],
   "source": [
    "def preprocess_image(image):\n",
    "    '''Function that will be implied on each input. The function\n",
    "    will run after the image is resized and augmented.\n",
    "    The function should take one argument: one image (Numpy tensor\n",
    "    with rank 3), and should output a Numpy tensor with the same\n",
    "    shape.'''\n",
    "\n",
    "    # apply sobelY change\n",
    "#     img = cv2.Sobel(image, cv2.CV_64F, 0, 1, ksize=5)\n",
    "    # apply sobelXY change\n",
    "#     img = cv2.Sobel(image, cv2.CV_64F, 1 1, ksize=5)    \n",
    "    # apply laplacian (+blur)\n",
    "    image = cv2.GaussianBlur(image, (7, 7), 0)\n",
    "    image = cv2.Laplacian(image, cv2.CV_64F, ksize=5)\n",
    "   \n",
    "    return image"
   ]
  },
  {
   "cell_type": "code",
   "execution_count": 8,
   "metadata": {},
   "outputs": [
    {
     "name": "stdout",
     "output_type": "stream",
     "text": [
      "Found 78300 images belonging to 29 classes.\n",
      "Found 8700 images belonging to 29 classes.\n"
     ]
    }
   ],
   "source": [
    "# define the data generators\n",
    "augmentor_options = {\n",
    "    'samplewise_center': True,\n",
    "    'samplewise_std_normalization': True,\n",
    "    'horizontal_flip':True,\n",
    "    'validation_split':VALIDATION_SPLIT,\n",
    "    'preprocessing_function': preprocess_image,\n",
    "    'rotation_range':30,\n",
    "    'width_shift_range':0.2,\n",
    "    'height_shift_range':0.2,\n",
    "    'brightness_range':(0.66,1.33),\n",
    "    'zoom_range':[0.666,1.333],\n",
    "    'shear_range':0.2,\n",
    "    'channel_shift_range':63,\n",
    "}\n",
    "\n",
    "data_augmentor = ImageDataGenerator(**augmentor_options)\n",
    "\n",
    "flow_options = {\n",
    "    'target_size': TARGET_SIZE,\n",
    "    'batch_size': BATCH_SIZE,\n",
    "    'shuffle': True,\n",
    "}\n",
    "\n",
    "training_generator = data_augmentor.flow_from_directory(TRAIN_DIR, subset='training', **flow_options)\n",
    "validation_generator = data_augmentor.flow_from_directory(TRAIN_DIR, subset='validation', **flow_options)"
   ]
  },
  {
   "cell_type": "code",
   "execution_count": 9,
   "metadata": {
    "scrolled": false
   },
   "outputs": [
    {
     "name": "stdout",
     "output_type": "stream",
     "text": [
      "WARNING:tensorflow:From /home/felix/.local/lib/python3.6/site-packages/keras/backend/tensorflow_backend.py:422: The name tf.global_variables is deprecated. Please use tf.compat.v1.global_variables instead.\n",
      "\n",
      "Epoch 1/5\n",
      "2447/2447 [==============================] - 384s 157ms/step - loss: 2.6190 - accuracy: 0.3105 - val_loss: 2.4582 - val_accuracy: 0.4551\n",
      "Epoch 2/5\n",
      "2447/2447 [==============================] - 379s 155ms/step - loss: 1.8317 - accuracy: 0.5261 - val_loss: 1.4206 - val_accuracy: 0.6018\n",
      "Epoch 3/5\n",
      "2447/2447 [==============================] - 379s 155ms/step - loss: 1.5939 - accuracy: 0.6042 - val_loss: 1.7665 - val_accuracy: 0.5806\n",
      "Epoch 4/5\n",
      "2447/2447 [==============================] - 381s 156ms/step - loss: 1.4632 - accuracy: 0.6460 - val_loss: 2.2083 - val_accuracy: 0.5469\n",
      "Epoch 5/5\n",
      "2447/2447 [==============================] - 381s 156ms/step - loss: 1.3804 - accuracy: 0.6758 - val_loss: 1.6797 - val_accuracy: 0.5715\n",
      "Fitting the model took ~1907 second(s).\n"
     ]
    }
   ],
   "source": [
    "start_time = time.time()\n",
    "\n",
    "# save model architecture\n",
    "model.save(MODEL_DIR + '/slim-cnn-model_{}.archi.h5'.format(start_time))\n",
    "\n",
    "# call backs for model checkpoint\n",
    "model_checkpoint_callback = ModelCheckpoint(\n",
    "    filepath=MODEL_DIR+'/slim-cnn-model_{}.weights.h5'.format(start_time),\n",
    "    save_weights_only=True,\n",
    "    monitor='val_accuracy',\n",
    "    mode='max',\n",
    "    save_best_only=True)\n",
    "\n",
    "# callback for logging history\n",
    "csv_logger = CSVLogger(MODEL_DIR+'/slim-cnn-model_{}.history.csv'.format(start_time))\n",
    "\n",
    "history = None\n",
    "history = model.fit_generator(training_generator,\n",
    "                              epochs=5,\n",
    "                              validation_data=validation_generator,\n",
    "                              callbacks=[model_checkpoint_callback, csv_logger],\n",
    "                              verbose=1)\n",
    "\n",
    "print('Fitting the model took ~{:.0f} second(s).'.format(time.time() - start_time))"
   ]
  },
  {
   "cell_type": "code",
   "execution_count": 10,
   "metadata": {},
   "outputs": [],
   "source": [
    "# save slim-cnn model final weights (not necessarily the best because of overfitting)\n",
    "model.save_weights(MODEL_DIR + '/slim-cnn-model_{}.weights.final.h5'.format(start_time))"
   ]
  },
  {
   "cell_type": "code",
   "execution_count": 11,
   "metadata": {},
   "outputs": [
    {
     "name": "stdout",
     "output_type": "stream",
     "text": [
      "Final Accuracy: 67.58%\n",
      "Validation set accuracy: 57.15%\n"
     ]
    }
   ],
   "source": [
    "print('Final Accuracy: {:.2f}%'.format(history.history['accuracy'][-1] * 100))\n",
    "print('Validation set accuracy: {:.2f}%'.format(history.history['val_accuracy'][-1] * 100))"
   ]
  },
  {
   "cell_type": "code",
   "execution_count": 12,
   "metadata": {},
   "outputs": [
    {
     "data": {
      "image/png": "[encoded data removed]",
      "text/plain": [
       "<Figure size 432x288 with 1 Axes>"
      ]
     },
     "metadata": {
      "needs_background": "light"
     },
     "output_type": "display_data"
    }
   ],
   "source": [
    "plt.plot(history.history['accuracy'], label='train')\n",
    "plt.plot(history.history['val_accuracy'], label='val')\n",
    "plt.title('Accuracy')\n",
    "plt.legend()\n",
    "plt.show()"
   ]
  },
  {
   "cell_type": "code",
   "execution_count": null,
   "metadata": {},
   "outputs": [],
   "source": []
  }
 ],
 "metadata": {
  "kernelspec": {
   "display_name": "Python 3",
   "language": "python",
   "name": "python3"
  },
  "language_info": {
   "codemirror_mode": {
    "name": "ipython",
    "version": 3
   },
   "file_extension": ".py",
   "mimetype": "text/x-python",
   "name": "python",
   "nbconvert_exporter": "python",
   "pygments_lexer": "ipython3",
   "version": "3.6.9"
  }
 },
 "nbformat": 4,
 "nbformat_minor": 4
}
